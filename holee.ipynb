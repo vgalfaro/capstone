{
 "cells": [
  {
   "cell_type": "code",
   "execution_count": 1,
   "id": "c3dc4cb4",
   "metadata": {},
   "outputs": [],
   "source": [
    "import numpy as np\n",
    "import pandas as pd"
   ]
  },
  {
   "cell_type": "markdown",
   "id": "a5c8981b",
   "metadata": {},
   "source": [
    "Definimos las variables"
   ]
  },
  {
   "cell_type": "code",
   "execution_count": null,
   "id": "40fe716b",
   "metadata": {},
   "outputs": [],
   "source": [
    "N = 100 # Número de meses\n",
    "r = [[0 for i in range(N)] for j in range(N)] # Arbol Binomial\n",
    "Q = [[0 for i in range(N)] for j in range(N)] # Precios Arrow-Debreu\n",
    "theta = [0 for i in range(N)] # Drift\n",
    "P = [0 for i in range(N)] # Factor de descuento\n",
    "dt = 30 # Delta t\n",
    "sigma = 1 # Volatilidad"
   ]
  },
  {
   "cell_type": "markdown",
   "id": "74c296fa",
   "metadata": {},
   "source": [
    "Llenar estado inicial"
   ]
  },
  {
   "cell_type": "code",
   "execution_count": 3,
   "id": "7acd73b8",
   "metadata": {},
   "outputs": [
    {
     "name": "stderr",
     "output_type": "stream",
     "text": [
      "/var/folders/k6/x0pwglw92_74wdc5stx1kj0m0000gn/T/ipykernel_4608/3018726113.py:3: RuntimeWarning: divide by zero encountered in scalar divide\n",
      "  theta[0] = (1/dt ** 2) * (np.log((np.exp(-r[0][0] * dt) + np.exp(-(r[0][0] + 2 * sigma * np.sqrt(dt)) * dt)) / (2 * P[1]))) + sigma/np.sqrt(dt)\n"
     ]
    }
   ],
   "source": [
    "r[0][0] = float(4)\n",
    "Q[0][0] = 1\n",
    "theta[0] = (1/dt ** 2) * (np.log((np.exp(-r[0][0] * dt) + np.exp(-(r[0][0] + 2 * sigma * np.sqrt(dt)) * dt)) / (2 * P[1]))) + sigma/np.sqrt(dt)"
   ]
  },
  {
   "cell_type": "markdown",
   "id": "56def7d5",
   "metadata": {},
   "source": [
    "Iteración de cada nivel"
   ]
  },
  {
   "cell_type": "code",
   "execution_count": null,
   "id": "2d4a547c",
   "metadata": {},
   "outputs": [
    {
     "name": "stderr",
     "output_type": "stream",
     "text": [
      "/var/folders/k6/x0pwglw92_74wdc5stx1kj0m0000gn/T/ipykernel_4608/969889130.py:20: RuntimeWarning: divide by zero encountered in scalar divide\n",
      "  theta[j] = (1/dt ** 2) * np.log(f / (2 * P[j+1] * dt)) + sigma/np.sqrt(dt)\n",
      "/var/folders/k6/x0pwglw92_74wdc5stx1kj0m0000gn/T/ipykernel_4608/969889130.py:20: RuntimeWarning: invalid value encountered in scalar divide\n",
      "  theta[j] = (1/dt ** 2) * np.log(f / (2 * P[j+1] * dt)) + sigma/np.sqrt(dt)\n"
     ]
    },
    {
     "ename": "IndexError",
     "evalue": "list index out of range",
     "output_type": "error",
     "traceback": [
      "\u001b[0;31m---------------------------------------------------------------------------\u001b[0m",
      "\u001b[0;31mIndexError\u001b[0m                                Traceback (most recent call last)",
      "Cell \u001b[0;32mIn[4], line 20\u001b[0m\n\u001b[1;32m     17\u001b[0m f \u001b[38;5;241m=\u001b[39m Q[\u001b[38;5;241m0\u001b[39m][j]\u001b[38;5;241m*\u001b[39mnp\u001b[38;5;241m.\u001b[39mexp(\u001b[38;5;241m-\u001b[39mr[\u001b[38;5;241m0\u001b[39m][j] \u001b[38;5;241m*\u001b[39m dt) \u001b[38;5;241m+\u001b[39m \u001b[38;5;28msum\u001b[39m([(Q[k\u001b[38;5;241m-\u001b[39m\u001b[38;5;241m1\u001b[39m][j] \u001b[38;5;241m+\u001b[39m Q[i][j])\u001b[38;5;241m*\u001b[39mnp\u001b[38;5;241m.\u001b[39mexp(\u001b[38;5;241m-\u001b[39mr[k][j] \u001b[38;5;241m*\u001b[39m dt) \u001b[38;5;28;01mfor\u001b[39;00m k \u001b[38;5;129;01min\u001b[39;00m \u001b[38;5;28mrange\u001b[39m(\u001b[38;5;241m1\u001b[39m, j\u001b[38;5;241m+\u001b[39m\u001b[38;5;241m1\u001b[39m)]) \u001b[38;5;241m+\u001b[39m Q[j][j]\u001b[38;5;241m*\u001b[39mnp\u001b[38;5;241m.\u001b[39mexp(\u001b[38;5;241m-\u001b[39m(r[\u001b[38;5;241m0\u001b[39m][\u001b[38;5;241m0\u001b[39m] \u001b[38;5;241m+\u001b[39m \u001b[38;5;241m2\u001b[39m \u001b[38;5;241m*\u001b[39m sigma \u001b[38;5;241m*\u001b[39m np\u001b[38;5;241m.\u001b[39msqrt(dt)) \u001b[38;5;241m*\u001b[39m dt)\n\u001b[1;32m     19\u001b[0m \u001b[38;5;66;03m# theta\u001b[39;00m\n\u001b[0;32m---> 20\u001b[0m theta[j] \u001b[38;5;241m=\u001b[39m (\u001b[38;5;241m1\u001b[39m\u001b[38;5;241m/\u001b[39mdt \u001b[38;5;241m*\u001b[39m\u001b[38;5;241m*\u001b[39m \u001b[38;5;241m2\u001b[39m) \u001b[38;5;241m*\u001b[39m np\u001b[38;5;241m.\u001b[39mlog(f \u001b[38;5;241m/\u001b[39m (\u001b[38;5;241m2\u001b[39m \u001b[38;5;241m*\u001b[39m \u001b[43mP\u001b[49m\u001b[43m[\u001b[49m\u001b[43mj\u001b[49m\u001b[38;5;241;43m+\u001b[39;49m\u001b[38;5;241;43m1\u001b[39;49m\u001b[43m]\u001b[49m \u001b[38;5;241m*\u001b[39m dt)) \u001b[38;5;241m+\u001b[39m sigma\u001b[38;5;241m/\u001b[39mnp\u001b[38;5;241m.\u001b[39msqrt(dt)\n",
      "\u001b[0;31mIndexError\u001b[0m: list index out of range"
     ]
    }
   ],
   "source": [
    "for j in range(1,N):\n",
    "\n",
    "    # Tasas\n",
    "    for i in range(0, j+1):\n",
    "        r[i][j] = r[0][0] + dt * sum(theta[0:j-1]) + (2*i - j)*sigma*np.sqrt(dt)\n",
    "\n",
    "    # Precios Arrow-Debreu\n",
    "    for i in range(0, j+1):\n",
    "        if i == 0:\n",
    "            Q[i][j] = np.exp(-r[i][j] * dt) * 0.5 * Q[i][j-1]\n",
    "        elif i == j:\n",
    "            Q[i][j] = np.exp(-r[i][j] * dt) * 0.5 * Q[j-1][j-1]\n",
    "        else:\n",
    "            Q[i][j] = np.exp(-r[i][j] * dt) * 0.5 * (Q[i-1][j-1] + Q[i][j-1])\n",
    "    \n",
    "    # f auxiliar\n",
    "    f = Q[0][j]*np.exp(-r[0][j] * dt) + sum([(Q[k-1][j] + Q[i][j])*np.exp(-r[k][j] * dt) for k in range(1, j+1)]) + Q[j][j]*np.exp(-(r[0][0] + 2 * sigma * np.sqrt(dt)) * dt)\n",
    "\n",
    "    # theta\n",
    "    theta[j] = (1/dt ** 2) * np.log(f / (2 * P[j+1] * dt)) + sigma/np.sqrt(dt)"
   ]
  },
  {
   "cell_type": "code",
   "execution_count": null,
   "id": "52a8095a",
   "metadata": {},
   "outputs": [],
   "source": []
  }
 ],
 "metadata": {
  "kernelspec": {
   "display_name": "Python 3 (ipykernel)",
   "language": "python",
   "name": "python3"
  },
  "language_info": {
   "codemirror_mode": {
    "name": "ipython",
    "version": 3
   },
   "file_extension": ".py",
   "mimetype": "text/x-python",
   "name": "python",
   "nbconvert_exporter": "python",
   "pygments_lexer": "ipython3",
   "version": "3.11.9"
  }
 },
 "nbformat": 4,
 "nbformat_minor": 5
}
